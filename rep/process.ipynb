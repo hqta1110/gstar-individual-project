{
 "cells": [
  {
   "cell_type": "markdown",
   "id": "038c893b",
   "metadata": {},
   "source": [
    "## Run this cell below after running `post_vmlu.py`"
   ]
  },
  {
   "cell_type": "code",
   "execution_count": 19,
   "id": "5ee7d177",
   "metadata": {},
   "outputs": [
    {
     "name": "stdout",
     "output_type": "stream",
     "text": [
      "Successfully converted '/home/sora/llm/moe/output/deepseek_pre/final_result.jsonl' to '/home/sora/llm/moe/output/deepseek_pre/final_result.csv'. 🎉\n"
     ]
    }
   ],
   "source": [
    "import json\n",
    "import csv\n",
    "import sys\n",
    "\n",
    "def jsonl_to_csv(jsonl_file_path, csv_file_path):\n",
    "    \"\"\"\n",
    "    Converts a JSONL file to a CSV file.\n",
    "\n",
    "    Args:\n",
    "        jsonl_file_path (str): The path to the input JSONL file.\n",
    "        csv_file_path (str): The path to the output CSV file.\n",
    "    \"\"\"\n",
    "    try:\n",
    "        # Step 1: Read the JSONL file and collect all objects\n",
    "        data = []\n",
    "        with open(jsonl_file_path, 'r', encoding='utf-8') as f_jsonl:\n",
    "            for line in f_jsonl:\n",
    "                # Skip empty lines to avoid errors\n",
    "                if line.strip():\n",
    "                    data.append(json.loads(line))\n",
    "\n",
    "        if not data:\n",
    "            print(\"The JSONL file is empty or contains no valid JSON objects.\")\n",
    "            return\n",
    "\n",
    "        # Step 2: Extract column headers from the keys of the first JSON object\n",
    "        # We assume all objects have the same keys for a clean CSV\n",
    "        headers = list(data[0].keys())\n",
    "\n",
    "        # Step 3: Write the data to the CSV file\n",
    "        with open(csv_file_path, 'w', newline='', encoding='utf-8') as f_csv:\n",
    "            writer = csv.DictWriter(f_csv, fieldnames=headers)\n",
    "            \n",
    "            # Write the header row\n",
    "            writer.writeheader()\n",
    "            \n",
    "            # Write the data rows\n",
    "            writer.writerows(data)\n",
    "            \n",
    "        print(f\"Successfully converted '{jsonl_file_path}' to '{csv_file_path}'. 🎉\")\n",
    "\n",
    "    except FileNotFoundError:\n",
    "        print(f\"Error: The file '{jsonl_file_path}' was not found.\")\n",
    "        sys.exit(1)\n",
    "    except json.JSONDecodeError as e:\n",
    "        print(f\"Error: Could not decode JSON from the file. Check for malformed JSON objects.\")\n",
    "        print(f\"Details: {e}\")\n",
    "        sys.exit(1)\n",
    "    except Exception as e:\n",
    "        print(f\"An unexpected error occurred: {e}\")\n",
    "        sys.exit(1)\n",
    "\n",
    "# Example usage:\n",
    "if __name__ == \"__main__\":\n",
    "\n",
    "    # Define the file paths\n",
    "    input_file = '/home/sora/llm/moe/output/deepseek_pre/final_result.jsonl'\n",
    "    output_file = '/home/sora/llm/moe/output/deepseek_pre/final_result.csv'\n",
    "    \n",
    "    # Run the conversion\n",
    "    jsonl_to_csv(input_file, output_file)"
   ]
  },
  {
   "cell_type": "markdown",
   "id": "65c002fd",
   "metadata": {},
   "source": [
    "## Run this cell below after running any benchmark and before running `post.py` (except MedQA)"
   ]
  },
  {
   "cell_type": "code",
   "execution_count": 20,
   "id": "8448d6d5",
   "metadata": {},
   "outputs": [
    {
     "name": "stdout",
     "output_type": "stream",
     "text": [
      "Updated file saved to /home/sora/llm/moe/output/deepseek_pre/raw_result_baseline_arc.json\n"
     ]
    }
   ],
   "source": [
    "import json\n",
    "import string\n",
    "import sys\n",
    "from typing import List, Dict\n",
    "\n",
    "def add_full_choice(data: List[Dict]) -> List[Dict]:\n",
    "    \"\"\"Add a 'full_choice' field like 'D. 0,4' to each sample.\"\"\"\n",
    "    letters = list(string.ascii_uppercase)\n",
    "    \n",
    "    for sample in data:\n",
    "        gold = sample.get(\"gold\")\n",
    "        choices = sample.get(\"choices\", [])\n",
    "        \n",
    "        if not gold or gold not in letters:\n",
    "            sample[\"full_choice\"] = None\n",
    "            continue\n",
    "        \n",
    "        idx = letters.index(gold)\n",
    "        if idx < len(choices):\n",
    "            sample[\"full_choice\"] = f\"{gold}. {choices[idx]}\"\n",
    "        else:\n",
    "            sample[\"full_choice\"] = None\n",
    "    return data\n",
    "\n",
    "if __name__ == \"__main__\":\n",
    "\n",
    "    input_path = \"/home/sora/llm/moe/output/deepseek_pre/raw_result_baseline_arc.json\"\n",
    "    output_path = \"/home/sora/llm/moe/output/deepseek_pre/raw_result_baseline_arc.json\"\n",
    "\n",
    "    # Load JSON file\n",
    "    with open(input_path, \"r\", encoding=\"utf-8\") as f:\n",
    "        data = json.load(f)\n",
    "\n",
    "    # If the file contains a single object, wrap it in a list\n",
    "    if isinstance(data, dict):\n",
    "        data = [data]\n",
    "    if isinstance(data, str):\n",
    "        data = data.split(\"\\n\")\n",
    "    # Process\n",
    "    updated_data = add_full_choice(data)\n",
    "\n",
    "    # Save back\n",
    "    with open(output_path, \"w\", encoding=\"utf-8\") as f:\n",
    "        json.dump(updated_data if len(updated_data) > 1 else updated_data[0], f, indent=2, ensure_ascii=False)\n",
    "\n",
    "    print(f\"Updated file saved to {output_path}\")\n"
   ]
  },
  {
   "cell_type": "markdown",
   "id": "6417c835",
   "metadata": {},
   "source": [
    "## Run this cell below after running benchmark for MedQA and before `post.py` for it"
   ]
  },
  {
   "cell_type": "code",
   "execution_count": 21,
   "id": "1cf0e820",
   "metadata": {},
   "outputs": [],
   "source": [
    "import json\n",
    "\n",
    "filename = \"/home/sora/llm/moe/output/deepseek_pre/raw_result_med.json\"\n",
    "\n",
    "# Read original JSON\n",
    "with open(filename, \"r\", encoding=\"utf-8\") as f:\n",
    "    data = json.load(f)\n",
    "\n",
    "# Process each sample\n",
    "for sample in data:\n",
    "    choices_dict = {}\n",
    "    for line in sample[\"choices\"].strip().split(\"\\n\"):\n",
    "        if \". \" in line:\n",
    "            key, _ = line.split(\". \", 1)\n",
    "            choices_dict[key.strip()] = line.strip()\n",
    "\n",
    "    gold_key = sample.get(\"gold\", \"\")\n",
    "    sample[\"full_choice\"] = choices_dict.get(gold_key, \"\")\n",
    "\n",
    "# Write back to the same file\n",
    "with open(filename, \"w\", encoding=\"utf-8\") as f:\n",
    "    json.dump(data, f, ensure_ascii=False, indent=2)\n"
   ]
  }
 ],
 "metadata": {
  "kernelspec": {
   "display_name": "sora",
   "language": "python",
   "name": "python3"
  },
  "language_info": {
   "codemirror_mode": {
    "name": "ipython",
    "version": 3
   },
   "file_extension": ".py",
   "mimetype": "text/x-python",
   "name": "python",
   "nbconvert_exporter": "python",
   "pygments_lexer": "ipython3",
   "version": "3.12.9"
  }
 },
 "nbformat": 4,
 "nbformat_minor": 5
}

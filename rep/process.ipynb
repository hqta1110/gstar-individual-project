{
 "cells": [
  {
   "cell_type": "code",
   "execution_count": 36,
   "id": "2e116fe2",
   "metadata": {},
   "outputs": [
    {
     "name": "stdout",
     "output_type": "stream",
     "text": [
      "3270\n"
     ]
    }
   ],
   "source": [
    "import json\n",
    "with open(\"/home/sora/llm/moe/output/deepseek_prunese_again_11/raw_result_boolq.json\", \"r\", encoding=\"utf-8\") as f:\n",
    "    data = json.load(f)\n",
    "print(len(data))"
   ]
  },
  {
   "cell_type": "code",
   "execution_count": null,
   "id": "edc8e79e",
   "metadata": {},
   "outputs": [],
   "source": [
    "total = 0\n",
    "correct = 0\n",
    "for sample in data:\n",
    "    if sample['model_generation'] is not None :\n",
    "        total += 1\n",
    "        gold = str(sample['gold_answer']).strip().lower()\n",
    "        pred = sample[\"model_generation\"].strip().lower()\n",
    "        if gold == pred:\n",
    "            correct+=1\n",
    "correct/ total"
   ]
  },
  {
   "cell_type": "code",
   "execution_count": 37,
   "id": "13bc6935",
   "metadata": {},
   "outputs": [
    {
     "data": {
      "text/plain": [
       "0.629352137505509"
      ]
     },
     "execution_count": 37,
     "metadata": {},
     "output_type": "execute_result"
    }
   ],
   "source": [
    "import re\n",
    "total = 0\n",
    "correct = 0\n",
    "pattern = r\"\\b(?:Yes|No)\\b\"\n",
    "for sample in data:\n",
    "    if re.search(pattern, sample['answer']):\n",
    "        total += 1\n",
    "        gold = str(sample['gold']).strip().lower()\n",
    "        pred = \"false\" if re.search(r\"\\bNo\\b\", sample[\"answer\"]) else \"true\"\n",
    "        if gold == pred:\n",
    "            correct+=1\n",
    "correct/ total"
   ]
  },
  {
   "cell_type": "code",
   "execution_count": 19,
   "id": "5ee7d177",
   "metadata": {},
   "outputs": [
    {
     "name": "stdout",
     "output_type": "stream",
     "text": [
      "Successfully converted '/home/sora/llm/moe/output/deepseek_pre/final_result.jsonl' to '/home/sora/llm/moe/output/deepseek_pre/final_result.csv'. 🎉\n"
     ]
    }
   ],
   "source": [
    "import json\n",
    "import csv\n",
    "import sys\n",
    "\n",
    "def jsonl_to_csv(jsonl_file_path, csv_file_path):\n",
    "    \"\"\"\n",
    "    Converts a JSONL file to a CSV file.\n",
    "\n",
    "    Args:\n",
    "        jsonl_file_path (str): The path to the input JSONL file.\n",
    "        csv_file_path (str): The path to the output CSV file.\n",
    "    \"\"\"\n",
    "    try:\n",
    "        # Step 1: Read the JSONL file and collect all objects\n",
    "        data = []\n",
    "        with open(jsonl_file_path, 'r', encoding='utf-8') as f_jsonl:\n",
    "            for line in f_jsonl:\n",
    "                # Skip empty lines to avoid errors\n",
    "                if line.strip():\n",
    "                    data.append(json.loads(line))\n",
    "\n",
    "        if not data:\n",
    "            print(\"The JSONL file is empty or contains no valid JSON objects.\")\n",
    "            return\n",
    "\n",
    "        # Step 2: Extract column headers from the keys of the first JSON object\n",
    "        # We assume all objects have the same keys for a clean CSV\n",
    "        headers = list(data[0].keys())\n",
    "\n",
    "        # Step 3: Write the data to the CSV file\n",
    "        with open(csv_file_path, 'w', newline='', encoding='utf-8') as f_csv:\n",
    "            writer = csv.DictWriter(f_csv, fieldnames=headers)\n",
    "            \n",
    "            # Write the header row\n",
    "            writer.writeheader()\n",
    "            \n",
    "            # Write the data rows\n",
    "            writer.writerows(data)\n",
    "            \n",
    "        print(f\"Successfully converted '{jsonl_file_path}' to '{csv_file_path}'. 🎉\")\n",
    "\n",
    "    except FileNotFoundError:\n",
    "        print(f\"Error: The file '{jsonl_file_path}' was not found.\")\n",
    "        sys.exit(1)\n",
    "    except json.JSONDecodeError as e:\n",
    "        print(f\"Error: Could not decode JSON from the file. Check for malformed JSON objects.\")\n",
    "        print(f\"Details: {e}\")\n",
    "        sys.exit(1)\n",
    "    except Exception as e:\n",
    "        print(f\"An unexpected error occurred: {e}\")\n",
    "        sys.exit(1)\n",
    "\n",
    "# Example usage:\n",
    "if __name__ == \"__main__\":\n",
    "\n",
    "    # Define the file paths\n",
    "    input_file = '/home/sora/llm/moe/output/deepseek_pre/final_result.jsonl'\n",
    "    output_file = '/home/sora/llm/moe/output/deepseek_pre/final_result.csv'\n",
    "    \n",
    "    # Run the conversion\n",
    "    jsonl_to_csv(input_file, output_file)"
   ]
  },
  {
   "cell_type": "code",
   "execution_count": 20,
   "id": "8448d6d5",
   "metadata": {},
   "outputs": [
    {
     "name": "stdout",
     "output_type": "stream",
     "text": [
      "Updated file saved to /home/sora/llm/moe/output/deepseek_pre/raw_result_baseline_arc.json\n"
     ]
    }
   ],
   "source": [
    "import json\n",
    "import string\n",
    "import sys\n",
    "from typing import List, Dict\n",
    "\n",
    "def add_full_choice(data: List[Dict]) -> List[Dict]:\n",
    "    \"\"\"Add a 'full_choice' field like 'D. 0,4' to each sample.\"\"\"\n",
    "    letters = list(string.ascii_uppercase)\n",
    "    \n",
    "    for sample in data:\n",
    "        gold = sample.get(\"gold\")\n",
    "        choices = sample.get(\"choices\", [])\n",
    "        \n",
    "        if not gold or gold not in letters:\n",
    "            sample[\"full_choice\"] = None\n",
    "            continue\n",
    "        \n",
    "        idx = letters.index(gold)\n",
    "        if idx < len(choices):\n",
    "            sample[\"full_choice\"] = f\"{gold}. {choices[idx]}\"\n",
    "        else:\n",
    "            sample[\"full_choice\"] = None\n",
    "    return data\n",
    "\n",
    "if __name__ == \"__main__\":\n",
    "\n",
    "    input_path = \"/home/sora/llm/moe/output/deepseek_pre/raw_result_baseline_arc.json\"\n",
    "    output_path = \"/home/sora/llm/moe/output/deepseek_pre/raw_result_baseline_arc.json\"\n",
    "\n",
    "    # Load JSON file\n",
    "    with open(input_path, \"r\", encoding=\"utf-8\") as f:\n",
    "        data = json.load(f)\n",
    "\n",
    "    # If the file contains a single object, wrap it in a list\n",
    "    if isinstance(data, dict):\n",
    "        data = [data]\n",
    "    if isinstance(data, str):\n",
    "        data = data.split(\"\\n\")\n",
    "    # Process\n",
    "    updated_data = add_full_choice(data)\n",
    "\n",
    "    # Save back\n",
    "    with open(output_path, \"w\", encoding=\"utf-8\") as f:\n",
    "        json.dump(updated_data if len(updated_data) > 1 else updated_data[0], f, indent=2, ensure_ascii=False)\n",
    "\n",
    "    print(f\"Updated file saved to {output_path}\")\n"
   ]
  },
  {
   "cell_type": "code",
   "execution_count": null,
   "id": "2827785a",
   "metadata": {},
   "outputs": [],
   "source": [
    "import matplotlib.pyplot as plt\n",
    "import pandas as pd\n",
    "\n",
    "# Use light style\n",
    "plt.style.use(\"default\")   # or \"seaborn-v0_8-whitegrid\" for gridlines\n",
    "\n",
    "# Data from the table\n",
    "data = {\n",
    "    \"Baseline\": [39.10, 41.46, 18.95, 67.74, 36.08, 31.91],\n",
    "    \"Pruning (SE)\": [30.99, 30.72, 0.03, 62.75, 26.94, 31.02],\n",
    "    \"Pruning (non SE)\" : [40.71, 39.51, 10.61, 68.19, 36.99, 31.23],\n",
    "    \"Finetune SE only\": [44.98, 52.17, 15.77, 69.87, 39.98, 33.6],\n",
    "    \"Finetune non-SE only\": [45.23, 52.26, 15.61, 69.87, 39.98, 33.64],\n",
    "    \"Finetune QKV\": [45.16, 53.71, 15.54, 69.87, 39.90, 31.91],\n",
    "}\n",
    "\n",
    "benchmarks = [\"MMLU\", \"ARC-E\", \"GSM8K\", \"BoolQ\", \"MedicalQA\", \"VMLU\"]\n",
    "\n",
    "# Put into DataFrame\n",
    "df = pd.DataFrame(data, index=benchmarks)\n",
    "\n",
    "# Plot grouped bar chart\n",
    "df.plot(kind=\"bar\", figsize=(12, 6), edgecolor=\"black\")\n",
    "\n",
    "plt.title(\"Performance Comparison by Benchmark\")\n",
    "plt.ylabel(\"Score\")\n",
    "plt.xticks(rotation=30, ha=\"right\")\n",
    "plt.legend(title=\"Method\", bbox_to_anchor=(1.05, 1), loc=\"upper left\")\n",
    "plt.tight_layout()\n",
    "plt.show()\n"
   ]
  },
  {
   "cell_type": "code",
   "execution_count": 21,
   "id": "1cf0e820",
   "metadata": {},
   "outputs": [],
   "source": [
    "import json\n",
    "\n",
    "filename = \"/home/sora/llm/moe/output/deepseek_pre/raw_result_med.json\"\n",
    "\n",
    "# Read original JSON\n",
    "with open(filename, \"r\", encoding=\"utf-8\") as f:\n",
    "    data = json.load(f)\n",
    "\n",
    "# Process each sample\n",
    "for sample in data:\n",
    "    choices_dict = {}\n",
    "    for line in sample[\"choices\"].strip().split(\"\\n\"):\n",
    "        if \". \" in line:\n",
    "            key, _ = line.split(\". \", 1)\n",
    "            choices_dict[key.strip()] = line.strip()\n",
    "\n",
    "    gold_key = sample.get(\"gold\", \"\")\n",
    "    sample[\"full_choice\"] = choices_dict.get(gold_key, \"\")\n",
    "\n",
    "# Write back to the same file\n",
    "with open(filename, \"w\", encoding=\"utf-8\") as f:\n",
    "    json.dump(data, f, ensure_ascii=False, indent=2)\n"
   ]
  },
  {
   "cell_type": "code",
   "execution_count": null,
   "id": "d0d76392",
   "metadata": {},
   "outputs": [],
   "source": [
    "from transformers import AutoModel\n",
    "model = AutoModel.from_pretrained(\"/home/sora/llm/moe/ckpt/DeepSeek-V2-Lite-Chat-Pruned\", trust_remote_code=True, device_map=\"cuda:1\")\n",
    "import json\n",
    "import torch\n",
    "\n",
    "# assume your model is already loaded as `model`\n",
    "with open(\"/home/sora/llm/moe/output_experts/deepseek2/super_experts_info/super_experts_report/Super Experts Report.json\") as f:\n",
    "    expert_data = json.load(f)\n",
    "\n",
    "for entry in expert_data:\n",
    "    layer_idx = int(entry[\"layer_index\"])\n",
    "    expert_idx = int(entry[\"expert_index\"])\n",
    "\n",
    "    # navigate: model.layers[layer_idx].mlp.experts[expert_idx]\n",
    "    expert = model.layers[layer_idx].mlp.experts[expert_idx]\n",
    "\n",
    "    print(f\"Layer {layer_idx}, Expert {expert_idx}\")\n",
    "    print(\" gate_proj weights:\", expert.gate_proj.weight.data)\n",
    "    print(\" up_proj weights:\", expert.up_proj.weight.data)\n",
    "    print(\" down_proj weights:\", expert.down_proj.weight.data)\n",
    "    print(\"-\" * 50)\n"
   ]
  },
  {
   "cell_type": "code",
   "execution_count": null,
   "id": "182f2269",
   "metadata": {},
   "outputs": [],
   "source": [
    "choices = [extract_and_convert(raw['raw']) for raw in data]"
   ]
  },
  {
   "cell_type": "code",
   "execution_count": null,
   "id": "4534013c",
   "metadata": {},
   "outputs": [],
   "source": [
    "gold = [sample['gold'] for sample in data]"
   ]
  },
  {
   "cell_type": "code",
   "execution_count": null,
   "id": "036892a3",
   "metadata": {},
   "outputs": [],
   "source": [
    "acc = 0\n",
    "for i in range(len(choices)):\n",
    "    if choices[i] == gold[i]:\n",
    "        acc += 1\n",
    "acc"
   ]
  },
  {
   "cell_type": "code",
   "execution_count": null,
   "id": "749455a4",
   "metadata": {},
   "outputs": [],
   "source": [
    "from datasets import load_dataset\n",
    "dataset = load_dataset(\"Nikity/Kyoto-Corpus\", split=\"train\")"
   ]
  },
  {
   "cell_type": "code",
   "execution_count": null,
   "id": "bbc7ef5b",
   "metadata": {},
   "outputs": [],
   "source": [
    "dataset[0]"
   ]
  },
  {
   "cell_type": "code",
   "execution_count": null,
   "id": "05cc2806",
   "metadata": {},
   "outputs": [],
   "source": []
  }
 ],
 "metadata": {
  "kernelspec": {
   "display_name": "sora",
   "language": "python",
   "name": "python3"
  },
  "language_info": {
   "codemirror_mode": {
    "name": "ipython",
    "version": 3
   },
   "file_extension": ".py",
   "mimetype": "text/x-python",
   "name": "python",
   "nbconvert_exporter": "python",
   "pygments_lexer": "ipython3",
   "version": "3.12.9"
  }
 },
 "nbformat": 4,
 "nbformat_minor": 5
}
